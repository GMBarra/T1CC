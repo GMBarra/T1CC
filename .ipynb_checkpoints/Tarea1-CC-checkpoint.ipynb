{
 "cells": [
  {
   "cell_type": "markdown",
   "metadata": {},
   "source": [
    "<img src=\"escudo_utfsm.gif\" style=\"float:right;height:100px\">\n",
    "<img src=\"IsotipoDIisocolor.png\" style=\"float:left;height:100px\">\n",
    "<center>\n",
    "    <h1> ILI285/INF285 Computación Científica </h1>\n",
    "    <h1> Tarea N°1: Introducción a Jupyter Notebook </h1>\n",
    "    <h3> [S]cientific [C]omputing [T]eam 2018</h3>\n",
    "</center>\n",
    "\n",
    "<p>\n",
    "<center>_Marzo 2018_ </center>\n",
    "</p>"
   ]
  },
  {
   "cell_type": "code",
   "execution_count": 1,
   "metadata": {
    "collapsed": true
   },
   "outputs": [],
   "source": [
    "%matplotlib inline\n",
    "import numpy as np\n",
    "import matplotlib.pyplot as plt\n",
    "from scipy import linalg\n",
    "import time"
   ]
  },
  {
   "cell_type": "markdown",
   "metadata": {},
   "source": [
    "## Introducción"
   ]
  },
  {
   "cell_type": "markdown",
   "metadata": {},
   "source": [
    "El objetivo de este laboratorio es familiarizarse con la herramienta Jupyter notebook, esta es una plataforma web que permite crear y compartir documentos que contienen código fuente, ecuaciones, visualizaciones y texto explicativo.\n",
    "El lenguaje de programación a utilizar será Python, es una buena alternativa debido a que Python posee muchos modulos especializados en algebra lineal, metodos numericos, vizualizcción de datos,etc. "
   ]
  },
  {
   "cell_type": "markdown",
   "metadata": {},
   "source": [
    "## Pregunta 1 [20 Pts]"
   ]
  },
  {
   "cell_type": "markdown",
   "metadata": {},
   "source": [
    "1) Una farmacia vende 10 frascos de vitamina A, 5 frascos de vitamina C y 25 frascos de vitamina D, todo por un valor de 355 pesos. Además, vende 20 frascos de vitamina A, 10 de vitamina C y 10 de vitamina D por un total de 310 pesos. Por otra parte vende 12 frascos de vitamina A, 4 de vitamina C y 15 de vitamina D por un total de 266 pesos. Encuentra el costo correspondiente a cada frasco de las vitaminas A, C y D."
   ]
  },
  {
   "cell_type": "code",
   "execution_count": 2,
   "metadata": {},
   "outputs": [
    {
     "name": "stdout",
     "output_type": "stream",
     "text": [
      "Costo Vitamina A: 7\n",
      "Costo Vitamina C: 5\n",
      "Costo Vitamina D: 10\n"
     ]
    }
   ],
   "source": [
    "a = np.array([[10,5,25],[20,10,10],[12,4,15]])\n",
    "b = np.array([355,310,266])\n",
    "x = linalg.solve(a,b)\n",
    "print(\"Costo Vitamina A: %s\" % (int(x[0])))\n",
    "print(\"Costo Vitamina C: %s\" % (int(x[1])))\n",
    "print(\"Costo Vitamina D: %s\" % (int(x[2])))"
   ]
  },
  {
   "cell_type": "markdown",
   "metadata": {},
   "source": [
    "2) Se tiene el siguiente sistema de ecuaciones:\n",
    "\n",
    "\\begin{align}\n",
    "6x_1 - 5x_2 - 7x_3 - 4x_4 + 3x_5 + 8x_6 &= -44 \\\\\n",
    "-7x_1 + 4x_2 + 7x_3 + 1x_4 - 3x_5 + 8x_6 &= 8 \\\\\n",
    "6x_1 - 3x_2 + 7x_3 - 6x_4 + 5x_5 - 6x_6 &= 104 \\\\\n",
    "8x_1 - 5x_2 + 7x_3 + x_4 - 6x_5 + 4x_6 &= 44\\\\\n",
    "2x_1 + 8x_2 + 6x_3 + 2x_4 - 8x_5 + 3x_6 &= -47\\\\\n",
    "-2x_1 + 4x_2 + 5x_3 + 7x_4 - 6x_5 - 5x_6 &= 6\n",
    "\\end{align}"
   ]
  },
  {
   "cell_type": "markdown",
   "metadata": {},
   "source": [
    "Represente ambos problemas como un sistema matricial, es decir de la forma $A\\mathbf{x}$ = $ \\mathbf{b}$ , luego encuentre los valores del vector $\\mathbf{x}$: \n",
    "* Usando la función *solve* de SciPy [[1]](#bib).\n",
    "* Haciendo uso de la inversa de A y el vector $\\mathbf{b}$. ($\\mathbf{x} = A^{-1} \\mathbf{b}$).\n",
    "\n",
    "Además, calcule el tiempo que demoran los dos métodos anteriores."
   ]
  },
  {
   "cell_type": "code",
   "execution_count": 3,
   "metadata": {},
   "outputs": [
    {
     "data": {
      "text/plain": [
       "array([-2., -7.,  8., -1.,  3., -3.])"
      ]
     },
     "execution_count": 3,
     "metadata": {},
     "output_type": "execute_result"
    }
   ],
   "source": [
    "%timeit\n",
    "a = np.array([[6,-5,-7,-4,3,8],[-7,4,7,1,-3,8],[6,-3,7,-6,5,-6],[8,-5,7,1,-6,4],[2,8,6,2,-8,3],[-2,4,5,7,-6,-5]])\n",
    "b = np.array([-44,8,104,44,-47,6])\n",
    "x = linalg.solve(a,b)\n",
    "x"
   ]
  },
  {
   "cell_type": "code",
   "execution_count": 4,
   "metadata": {},
   "outputs": [
    {
     "data": {
      "text/plain": [
       "array([-2., -7.,  8., -1.,  3., -3.])"
      ]
     },
     "execution_count": 4,
     "metadata": {},
     "output_type": "execute_result"
    }
   ],
   "source": [
    "%timeit\n",
    "a = np.array([[6,-5,-7,-4,3,8],[-7,4,7,1,-3,8],[6,-3,7,-6,5,-6],[8,-5,7,1,-6,4],[2,8,6,2,-8,3],[-2,4,5,7,-6,-5]])\n",
    "b = np.array([-44,8,104,44,-47,6])\n",
    "linalg.inv(a).dot(b)"
   ]
  },
  {
   "cell_type": "markdown",
   "metadata": {},
   "source": [
    "## Pregunta 2 [30 Pts]"
   ]
  },
  {
   "cell_type": "markdown",
   "metadata": {},
   "source": [
    "La matriz de Hilbert es una matriz cuadrada que cuenta con la siguiente forma:\n",
    "\n",
    "$$\n",
    "H_{i,j} = \\frac{1}{i+j-1}, i,j = 1\\ldots n\n",
    "$$\n",
    "\n",
    "Construya la función *Hilbert(n)*, mediante la siguiente estructura:\n",
    "\n",
    "```python\n",
    "'''\n",
    "n - (integer) Matrix size\n",
    "H - (2D-array) Hilbert matrix\n",
    "x - (1D-array) Random vector x\n",
    "b - (1D-array) Vector result of Ax\n",
    "'''\n",
    "```\n",
    "```python     \n",
    "def Hilbert(n):\n",
    "    ...\n",
    "    return H, x, b\n",
    "```\n",
    "\n",
    "Esta función deberá retornar matrices de Hilbert, vectores $\\mathbf{x}$ de forma aleatoria (recuerde elegir una semilla para poder reproducir sus experimentos) y un vector $\\mathbf{b}$ construido a partir de $A\\mathbf{x} = \\mathbf{b}$. Se deberá mostrar a través de un gráfico los tiempos de resolución de cada método (usando la función *solve* de SciPy y resolviendo directamente $\\mathbf{x} = A^{-1} \\mathbf{b}$) para matrices de tamaño 10, 100, 300, 500, 700, 1000, 1300. Calcule el error de sus dos métodos con respecto al vector $\\mathbf{x}$ creado anteriormente y grafique el tamaño de la matriz vs el error. Concluya.\n",
    "\n",
    "Para los gráficos de tiempo, ocupe la función *loglog*, y para los de error *semilogy* [[2]](#bib)."
   ]
  },
  {
   "cell_type": "code",
   "execution_count": 25,
   "metadata": {},
   "outputs": [],
   "source": [
    "from scipy.linalg import hilbert\n",
    "from sklearn.metrics import mean_squared_error as mse\n",
    "import random\n",
    "import time\n",
    "\n",
    "def Hilbert(n):\n",
    "    np.random.seed(44)\n",
    "    H = [[0 for x in range(n)] for y in range(n)]\n",
    "    x = np.random.rand(n)\n",
    "    for i in range(n):\n",
    "        for j in range(n):\n",
    "            H[i][j] = 1/(i+j+1)      #se coloco un +1 al incrementar en +1 el i y el j para solucionar el problema de indices\n",
    "    x = np.random.rand(n)\n",
    "    b = np.dot(H,x)\n",
    "    return H,x,b\n",
    "\n",
    "\n",
    "def Hilbert_2(n):\n",
    "    np.random.seed(44)\n",
    "    H = [[0 for x in range(n)] for y in range(n)]\n",
    "    for i in range(n):\n",
    "        for j in range(n):\n",
    "            H[i][j] = 1/(i+j+1)      #se coloco un +1 al incrementar en +1 el i y el j para solucionar el problema de indices\n",
    "    x = np.random.rand(n)\n",
    "    b = linalg.inv(H).dot(x)\n",
    "    return H,x,b\n",
    "\n",
    "\n",
    "def calcularX(metodo):\n",
    "    the_list = [10,100, 300, 500, 700, 1000, 1300]\n",
    "    time_list = []\n",
    "    error_list = []\n",
    "    for i in the_list:\n",
    "        start = time.time()\n",
    "        H,x,b = Hilbert(i)\n",
    "        if(metodo == 1):\n",
    "            new_x = linalg.solve(H,b)\n",
    "        elif(metodo == 2):\n",
    "            new_x = linalg.inv(H).dot(b)\n",
    "        end = time.time()\n",
    "        time_list.append(end-start)\n",
    "        error_list.append(mse(x,new_x))\n",
    "    print(\"potato\")\n",
    "\n",
    "        \n"
   ]
  },
  {
   "cell_type": "code",
   "execution_count": 11,
   "metadata": {},
   "outputs": [
    {
     "name": "stdout",
     "output_type": "stream",
     "text": [
      "hola mundo\n"
     ]
    }
   ],
   "source": [
    "def hla_mund():\n",
    "    print(\"hola mundo\")\n"
   ]
  },
  {
   "cell_type": "markdown",
   "metadata": {},
   "source": [
    "## Pregunta 3 [40 Pts]"
   ]
  },
  {
   "cell_type": "markdown",
   "metadata": {},
   "source": [
    "Usando la función *Hilbert(n)* creada anteriormente, repita 50 veces cada método con matrices de tamaño 10, 100, 300, 500, 700, 1000, 1300, y guarde sus tiempos de ejecución. Con esta data, realice un gráfico de *boxplot* [[3]](#bib) de cada método (en total serán 14 *boxplots*), indicando claramente a que método corresponde cada boxplot. Una con una línea las medias de cada método en los boxplots mostrados y concluya."
   ]
  },
  {
   "cell_type": "markdown",
   "metadata": {},
   "source": [
    "# Instrucciones:\n",
    "\n",
    "* La estructura del laboratorio es la siguiente:\n",
    "     1. Título, nombre de estudiante, email y rol.\n",
    "     2. Introducción.\n",
    "     3. Desarrollo y análisis de resultados.\n",
    "     4. Conclusiones.\n",
    "     5. Referencias.\n",
    "* El laboratorio debe ser realizado en `Jupyter Notebook` (`Python3`).\n",
    "* Se evaluará la correcta utilización de librerias `NumPy`, `SciPy`, `SymPy`, `Matplotlib` y `ipywidgets`, así como la correcta implementación de algoritmos vectorizados.\n",
    "* El archivo de entrega debe denominarse Tarea1-rol.tar.gz y debe contener un directorio con todos los archivos necesarios para ejecutar el notebook, junto con un archivo README indicando explícitamente las librerías o módulos utilizados, nombre y rol del estudiante.\n",
    "* El descuento por día de atraso será de $30$ puntos, con un máximo de 1 día de atraso. No se recibirán entregas después de este día.\n",
    "* El trabajo es personal, no se permite compartir código ni utilizar código de otros, aunque sí se sugiere discutir aspectos generales con sus compañeros.\n",
    "* En caso de sospecha de no cumplimiento de estas instrucciones, se solicitará al involucrado o la involucrada a aclarar la situación. Dependiendo de la justificación se decidirá su calificación, la cual podrá o no ser penalizada.\n",
    "* El no seguir estas instrucciones, implica descuentos en su nota obtenida."
   ]
  },
  {
   "cell_type": "markdown",
   "metadata": {},
   "source": [
    "<a id='bib'></a>\n",
    "## Referencias\n",
    "\n",
    "* 1.- <a href=https://docs.scipy.org/doc/scipy-0.14.0/reference/generated/scipy.linalg.solve.html>[1] Documentación del método *solve* de  SciPy </a>\n",
    "* 2.- <a href=https://matplotlib.org/examples/pylab_examples/log_demo.html>[2] Gráficos con *semilogy* y *loglog* </a>\n",
    "* 3.- <a href=https://stackoverflow.com/questions/16592222/matplotlib-group-boxplots>[3] Crear grupos de boxplots </a>"
   ]
  }
 ],
 "metadata": {
  "kernelspec": {
   "display_name": "Python 3",
   "language": "python",
   "name": "python3"
  },
  "language_info": {
   "codemirror_mode": {
    "name": "ipython",
    "version": 3
   },
   "file_extension": ".py",
   "mimetype": "text/x-python",
   "name": "python",
   "nbconvert_exporter": "python",
   "pygments_lexer": "ipython3",
   "version": "3.6.2"
  }
 },
 "nbformat": 4,
 "nbformat_minor": 1
}
